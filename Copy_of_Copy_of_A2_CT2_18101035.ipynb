{
  "nbformat": 4,
  "nbformat_minor": 0,
  "metadata": {
    "colab": {
      "name": "Copy of Copy of A2_CT2_18101035.ipynb",
      "provenance": [],
      "collapsed_sections": [],
      "authorship_tag": "ABX9TyOT7/WVM/Ybi36tMDZxdFG6",
      "include_colab_link": true
    },
    "kernelspec": {
      "name": "python3",
      "display_name": "Python 3"
    }
  },
  "cells": [
    {
      "cell_type": "markdown",
      "metadata": {
        "id": "view-in-github",
        "colab_type": "text"
      },
      "source": [
        "<a href=\"https://colab.research.google.com/github/effat-100/colab/blob/master/Copy_of_Copy_of_A2_CT2_18101035.ipynb\" target=\"_parent\"><img src=\"https://colab.research.google.com/assets/colab-badge.svg\" alt=\"Open In Colab\"/></a>"
      ]
    },
    {
      "cell_type": "code",
      "metadata": {
        "id": "QSXwjoLZNPwd",
        "colab_type": "code",
        "colab": {}
      },
      "source": [
        ""
      ],
      "execution_count": null,
      "outputs": []
    },
    {
      "cell_type": "code",
      "metadata": {
        "id": "T0dM6fZcey9d",
        "colab_type": "code",
        "colab": {
          "base_uri": "https://localhost:8080/",
          "height": 51
        },
        "outputId": "8488aad5-52f7-439d-88ae-b8ab7fa14d12"
      },
      "source": [
        "a=int(input(\"input : \"))\n",
        "if a%2==0:\n",
        "  print(\"output: even\")\n",
        "else:\n",
        "  print(\"output : odd\")  "
      ],
      "execution_count": null,
      "outputs": [
        {
          "output_type": "stream",
          "text": [
            "input : 5\n",
            "output : odd\n"
          ],
          "name": "stdout"
        }
      ]
    },
    {
      "cell_type": "code",
      "metadata": {
        "id": "VPz1Zm5rf7ep",
        "colab_type": "code",
        "colab": {
          "base_uri": "https://localhost:8080/",
          "height": 51
        },
        "outputId": "948f202b-bb42-449a-96ec-7def3dbf7f7a"
      },
      "source": [
        "a=float(input(\"input: \"))\n",
        "if a<=33:\n",
        "  print(\"F\")\n",
        "elif a>=33 and a<=40:\n",
        "  print(\"D\")\n",
        "elif a>=40 and a<=50:\n",
        "  print(\"C\")\n",
        "elif a>=50 and a<=60:\n",
        "  print(\"B\")\n",
        "elif a>=60 and a<=70:\n",
        "  print(\"A-\")\n",
        "elif a>=70 and a<=80:\n",
        "    print(\"A\")\n",
        "else:\n",
        "  print(\"A+\")\n",
        "       "
      ],
      "execution_count": null,
      "outputs": [
        {
          "output_type": "stream",
          "text": [
            "input: 82\n",
            "A+\n"
          ],
          "name": "stdout"
        }
      ]
    },
    {
      "cell_type": "code",
      "metadata": {
        "id": "z61ORyvwhiHg",
        "colab_type": "code",
        "colab": {
          "base_uri": "https://localhost:8080/",
          "height": 129
        },
        "outputId": "a64be782-5e32-4ee9-a823-bb4333844241"
      },
      "source": [
        "d= {\n",
        "    \"1\":{\n",
        "    \"name\":\"peter\",\n",
        "    \"last name\":\"Lee\",\n",
        "    \"Email\":\"plee@university.edu\",\n",
        "    \"Year of birth\":\"1992\"\n",
        "},\n",
        "\"2\":{\n",
        "    \"name\":\"jonatham\",\n",
        "    \"last name\":\"Edwards\",\n",
        "    \"Email\":\"jedwards@university.edu\",\n",
        "    \"Year of birth\":\"1994\"\n",
        "    \n",
        "},\n",
        "\"3\":{\n",
        "    \"name\":\"Marilyn\",\n",
        "    \"last name\":\"johson\",\n",
        "    \"Email\":\"mjhoson@university.edu\",\n",
        "    \"Year of birth\":\"1993\"\n",
        "},\n",
        "\"6\":{\n",
        "    \"name\":\"joe\",\n",
        "    \"last name\":\"kim\",\n",
        "    \"Email\":\"jkim@university.edu\",\n",
        "    \"Year of birth\":\"1992\"\n",
        "    \n",
        "},\n",
        "\n",
        "\"12\":{\n",
        "    \"name\":\"Haley\",\n",
        "    \"last name\":\"Martinez\",\n",
        "    \"Email\":\"hamartinez@university.edu\",\n",
        "    \"Year of birth\":\"1993\"\n",
        "}\n",
        "  for Email,d in d.items():\n",
        "    if Email in d:\n",
        "      print(\"the Email of the dictionaries :\",Email)\n",
        "}\n"
      ],
      "execution_count": 26,
      "outputs": [
        {
          "output_type": "error",
          "ename": "SyntaxError",
          "evalue": "ignored",
          "traceback": [
            "\u001b[0;36m  File \u001b[0;32m\"<ipython-input-26-9236e2a5f626>\"\u001b[0;36m, line \u001b[0;32m35\u001b[0m\n\u001b[0;31m    for Email,d in d.items():\u001b[0m\n\u001b[0m      ^\u001b[0m\n\u001b[0;31mSyntaxError\u001b[0m\u001b[0;31m:\u001b[0m invalid syntax\n"
          ]
        }
      ]
    },
    {
      "cell_type": "code",
      "metadata": {
        "id": "KKFxeMdcogep",
        "colab_type": "code",
        "colab": {
          "base_uri": "https://localhost:8080/",
          "height": 197
        },
        "outputId": "3674a1c0-8f58-4d19-ac6b-c1ccd1593c12"
      },
      "source": [
        ""
      ],
      "execution_count": 23,
      "outputs": [
        {
          "output_type": "error",
          "ename": "NameError",
          "evalue": "ignored",
          "traceback": [
            "\u001b[0;31m---------------------------------------------------------------------------\u001b[0m",
            "\u001b[0;31mNameError\u001b[0m                                 Traceback (most recent call last)",
            "\u001b[0;32m<ipython-input-23-0d775fefa1b9>\u001b[0m in \u001b[0;36m<module>\u001b[0;34m()\u001b[0m\n\u001b[1;32m      1\u001b[0m \u001b[0;32mfor\u001b[0m \u001b[0mname\u001b[0m\u001b[0;34m,\u001b[0m\u001b[0mname\u001b[0m \u001b[0;32min\u001b[0m \u001b[0md\u001b[0m\u001b[0;34m.\u001b[0m\u001b[0mitems\u001b[0m\u001b[0;34m(\u001b[0m\u001b[0;34m)\u001b[0m\u001b[0;34m:\u001b[0m\u001b[0;34m\u001b[0m\u001b[0;34m\u001b[0m\u001b[0m\n\u001b[0;32m----> 2\u001b[0;31m     \u001b[0;32mif\u001b[0m \u001b[0mitems\u001b[0m \u001b[0;32min\u001b[0m \u001b[0md\u001b[0m\u001b[0;34m:\u001b[0m\u001b[0;34m\u001b[0m\u001b[0;34m\u001b[0m\u001b[0m\n\u001b[0m\u001b[1;32m      3\u001b[0m       \u001b[0mprint\u001b[0m\u001b[0;34m(\u001b[0m\u001b[0;34m\"the name os the dictionaries :\"\u001b[0m\u001b[0;34m,\u001b[0m\u001b[0mname\u001b[0m\u001b[0;34m)\u001b[0m\u001b[0;34m\u001b[0m\u001b[0;34m\u001b[0m\u001b[0m\n",
            "\u001b[0;31mNameError\u001b[0m: name 'items' is not defined"
          ]
        }
      ]
    },
    {
      "cell_type": "code",
      "metadata": {
        "id": "aZFtcvVoewD8",
        "colab_type": "code",
        "colab": {
          "base_uri": "https://localhost:8080/",
          "height": 85
        },
        "outputId": "4842cb0d-a086-467c-d659-2d18a014aa89"
      },
      "source": [
        "d[\"12\"]"
      ],
      "execution_count": null,
      "outputs": [
        {
          "output_type": "execute_result",
          "data": {
            "text/plain": [
              "{'Email': 'hamartinez@university.edu',\n",
              " 'First name': 'Haley',\n",
              " 'Year of birth': '1993',\n",
              " 'last name': 'Martinez'}"
            ]
          },
          "metadata": {
            "tags": []
          },
          "execution_count": 19
        }
      ]
    },
    {
      "cell_type": "code",
      "metadata": {
        "id": "A_5KP7egokd3",
        "colab_type": "code",
        "colab": {}
      },
      "source": [
        "string=[\"ABCDEFGHIJKL\"]\n",
        "spilt.string()"
      ],
      "execution_count": null,
      "outputs": []
    },
    {
      "cell_type": "markdown",
      "metadata": {
        "id": "UzcX9D6Oeukz",
        "colab_type": "text"
      },
      "source": [
        ""
      ]
    },
    {
      "cell_type": "markdown",
      "metadata": {
        "id": "507kfwPiet_9",
        "colab_type": "text"
      },
      "source": [
        "**bold text**"
      ]
    }
  ]
}